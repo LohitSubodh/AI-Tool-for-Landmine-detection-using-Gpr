{
  "nbformat": 4,
  "nbformat_minor": 0,
  "metadata": {
    "colab": {
      "name": "CNN_capstone_Lohit.ipynb",
      "provenance": [],
      "collapsed_sections": [],
      "include_colab_link": true
    },
    "kernelspec": {
      "name": "python3",
      "display_name": "Python 3"
    }
  },
  "cells": [
    {
      "cell_type": "markdown",
      "metadata": {
        "id": "view-in-github",
        "colab_type": "text"
      },
      "source": [
        "<a href=\"https://colab.research.google.com/github/LohitSubodh/Landmine-detection-using-CNN/blob/main/CNN_LandmineDetection.ipynb\" target=\"_parent\"><img src=\"https://colab.research.google.com/assets/colab-badge.svg\" alt=\"Open In Colab\"/></a>"
      ]
    },
    {
      "cell_type": "code",
      "metadata": {
        "id": "GrR6nOeTyvCv"
      },
      "source": [
        "import tensorflow as tf\n",
        "import numpy as np\n",
        "from tensorflow.keras import layers, Model\n",
        "import matplotlib.pyplot as plt\n",
        "import random\n",
        "\n",
        "%matplotlib inline"
      ],
      "execution_count": null,
      "outputs": []
    },
    {
      "cell_type": "code",
      "metadata": {
        "id": "HrPwKkZ_R0ea"
      },
      "source": [
        "from tensorflow import keras\n",
        "from keras.callbacks import ReduceLROnPlateau\n",
        "from keras.optimizers import RMSprop"
      ],
      "execution_count": null,
      "outputs": []
    },
    {
      "cell_type": "code",
      "metadata": {
        "id": "hsyREuVm5p89",
        "colab": {
          "base_uri": "https://localhost:8080/"
        },
        "outputId": "a7607e73-dbaf-450c-e020-491af97ba861"
      },
      "source": [
        "from google.colab import drive\n",
        "drive.mount('/content/drive')"
      ],
      "execution_count": null,
      "outputs": [
        {
          "output_type": "stream",
          "text": [
            "Drive already mounted at /content/drive; to attempt to forcibly remount, call drive.mount(\"/content/drive\", force_remount=True).\n"
          ],
          "name": "stdout"
        }
      ]
    },
    {
      "cell_type": "code",
      "metadata": {
        "id": "RS6D_wiS5s2n",
        "colab": {
          "base_uri": "https://localhost:8080/"
        },
        "outputId": "3329909c-7b8c-49d5-a4df-87c806fe98cd"
      },
      "source": [
        "%cd /content/drive/My Drive/Cpaston_Project/2020_08_21/gprMax/"
      ],
      "execution_count": null,
      "outputs": [
        {
          "output_type": "stream",
          "text": [
            "/content/drive/.shortcut-targets-by-id/1xAAKRBNZ9m-dmyYDubl-gdVqQHhJ6OWL/Cpaston_Project/2020_08_21/gprMax\n"
          ],
          "name": "stdout"
        }
      ]
    },
    {
      "cell_type": "code",
      "metadata": {
        "id": "jc5-WL-p5vH1",
        "colab": {
          "base_uri": "https://localhost:8080/"
        },
        "outputId": "039f7456-76c7-4103-9483-287d1aa26488"
      },
      "source": [
        "! pip install colorama"
      ],
      "execution_count": null,
      "outputs": [
        {
          "output_type": "stream",
          "text": [
            "Requirement already satisfied: colorama in /usr/local/lib/python3.6/dist-packages (0.4.4)\n"
          ],
          "name": "stdout"
        }
      ]
    },
    {
      "cell_type": "code",
      "metadata": {
        "id": "15DQeXXW5xYn",
        "colab": {
          "base_uri": "https://localhost:8080/"
        },
        "outputId": "544f607c-4af1-46fb-d0f4-314fc7363196"
      },
      "source": [
        "! pip install terminaltables"
      ],
      "execution_count": null,
      "outputs": [
        {
          "output_type": "stream",
          "text": [
            "Collecting terminaltables\n",
            "  Downloading https://files.pythonhosted.org/packages/9b/c4/4a21174f32f8a7e1104798c445dacdc1d4df86f2f26722767034e4de4bff/terminaltables-3.1.0.tar.gz\n",
            "Building wheels for collected packages: terminaltables\n",
            "  Building wheel for terminaltables (setup.py) ... \u001b[?25l\u001b[?25hdone\n",
            "  Created wheel for terminaltables: filename=terminaltables-3.1.0-cp36-none-any.whl size=15357 sha256=2e0feb3109a62b79b77fe2b69e12c2d87e6682f8a099c8e95a0bf2d9188017e3\n",
            "  Stored in directory: /root/.cache/pip/wheels/30/6b/50/6c75775b681fb36cdfac7f19799888ef9d8813aff9e379663e\n",
            "Successfully built terminaltables\n",
            "Installing collected packages: terminaltables\n",
            "Successfully installed terminaltables-3.1.0\n"
          ],
          "name": "stdout"
        }
      ]
    },
    {
      "cell_type": "code",
      "metadata": {
        "id": "8CGx5roL531M",
        "colab": {
          "base_uri": "https://localhost:8080/",
          "height": 35
        },
        "outputId": "bd495bb6-adcc-4f8e-ff5c-233cb0dee0dd"
      },
      "source": [
        "import os\n",
        "os.getcwd()"
      ],
      "execution_count": null,
      "outputs": [
        {
          "output_type": "execute_result",
          "data": {
            "application/vnd.google.colaboratory.intrinsic+json": {
              "type": "string"
            },
            "text/plain": [
              "'/content/drive/.shortcut-targets-by-id/1xAAKRBNZ9m-dmyYDubl-gdVqQHhJ6OWL/Cpaston_Project/2020_08_21/gprMax'"
            ]
          },
          "metadata": {
            "tags": []
          },
          "execution_count": 6
        }
      ]
    },
    {
      "cell_type": "code",
      "metadata": {
        "id": "Ex1vvfX359fW"
      },
      "source": [
        "arrays=[]"
      ],
      "execution_count": null,
      "outputs": []
    },
    {
      "cell_type": "code",
      "metadata": {
        "id": "FtLBzzkf50o2"
      },
      "source": [
        "%matplotlib inline\n",
        "from tools.plot_Bscan import get_output_data, mpl_plot\n",
        "path='/content/drive/My Drive/Cpaston_Project/2020_08_21/gprMax/project'\n",
        "#/content/drive/My Drive/Cpaston_Project/2020_08_21/gprMax/project/Output_files/no_mine1_merged.out\n",
        "#filename='project/Output_files/no_mine1_merged.out'\n",
        "for i in range(1,41):\n",
        "  filename = os.path.join( path,'Output_files','mine','mine'+str(i)+'_merged.out')\n",
        "  rxnumber = 1\n",
        "  rxcomponent = 'Ey'\n",
        "  outputdata, dt = get_output_data(filename, rxnumber, rxcomponent)\n",
        "  outputdata=outputdata.reshape(1300,60)\n",
        "  arrays.append(outputdata)\n",
        "   \n",
        "#print(outputdata.shape)\n",
        "#plt = mpl_plot(filename,outputdata, dt, rxnumber, rxcomponent)\n",
        "#print(outputdata.shape)\n",
        "\n",
        "# Change from the default 'seismic' colormap\n",
        "#plt.set_cmap('gray')"
      ],
      "execution_count": null,
      "outputs": []
    },
    {
      "cell_type": "code",
      "metadata": {
        "id": "xY9i5kloA9Xy"
      },
      "source": [
        "for i in range(1,161):\n",
        "  filename = os.path.join( path,'Output_files','without_mine','nomine'+str(i)+'_merged.out')\n",
        "  rxnumber = 1\n",
        "  rxcomponent = 'Ey'\n",
        "  outputdata, dt = get_output_data(filename, rxnumber, rxcomponent)\n",
        "  #print(i,sep=\" \")\n",
        "  outputdata=outputdata.reshape(1300,60)\n",
        "  arrays.append(outputdata)\n",
        "#print(outputdata.shape)\n",
        "#plt = mpl_plot(filename,outputdata, dt, rxnumber, rxcomponent)  "
      ],
      "execution_count": null,
      "outputs": []
    },
    {
      "cell_type": "code",
      "metadata": {
        "id": "TdwEwiBRwf-P"
      },
      "source": [
        "X=np.stack(arrays)\n"
      ],
      "execution_count": null,
      "outputs": []
    },
    {
      "cell_type": "code",
      "metadata": {
        "id": "5Do2NQOdxx98",
        "colab": {
          "base_uri": "https://localhost:8080/"
        },
        "outputId": "44c593a1-4a17-407a-8ab2-ac1e673811d8"
      },
      "source": [
        "X.shape"
      ],
      "execution_count": null,
      "outputs": [
        {
          "output_type": "execute_result",
          "data": {
            "text/plain": [
              "(200, 1300, 60)"
            ]
          },
          "metadata": {
            "tags": []
          },
          "execution_count": 12
        }
      ]
    },
    {
      "cell_type": "code",
      "metadata": {
        "id": "cT5MFn_N6dk-",
        "colab": {
          "base_uri": "https://localhost:8080/"
        },
        "outputId": "bbf76761-9f88-4870-b5fc-0b22b6a3aed3"
      },
      "source": [
        "X[3].shape"
      ],
      "execution_count": null,
      "outputs": [
        {
          "output_type": "execute_result",
          "data": {
            "text/plain": [
              "(1300, 60)"
            ]
          },
          "metadata": {
            "tags": []
          },
          "execution_count": 13
        }
      ]
    },
    {
      "cell_type": "code",
      "metadata": {
        "id": "cMLuytA26pIg",
        "colab": {
          "base_uri": "https://localhost:8080/"
        },
        "outputId": "6dcb8823-a88c-4911-a0a0-8ef71bf68f8f"
      },
      "source": [
        "type(X)"
      ],
      "execution_count": null,
      "outputs": [
        {
          "output_type": "execute_result",
          "data": {
            "text/plain": [
              "numpy.ndarray"
            ]
          },
          "metadata": {
            "tags": []
          },
          "execution_count": 14
        }
      ]
    },
    {
      "cell_type": "code",
      "metadata": {
        "id": "f0k3IcxJ8ZiR"
      },
      "source": [
        "X=X.reshape(200,1300,60,1)"
      ],
      "execution_count": null,
      "outputs": []
    },
    {
      "cell_type": "code",
      "metadata": {
        "id": "gUQWun1-6sYS"
      },
      "source": [
        "y=[1]*40"
      ],
      "execution_count": null,
      "outputs": []
    },
    {
      "cell_type": "code",
      "metadata": {
        "id": "uFZv7OhY64aN",
        "colab": {
          "base_uri": "https://localhost:8080/"
        },
        "outputId": "4add3530-4c69-44c5-f5c0-defcf9b62384"
      },
      "source": [
        "len(y)"
      ],
      "execution_count": null,
      "outputs": [
        {
          "output_type": "execute_result",
          "data": {
            "text/plain": [
              "40"
            ]
          },
          "metadata": {
            "tags": []
          },
          "execution_count": 17
        }
      ]
    },
    {
      "cell_type": "code",
      "metadata": {
        "id": "XNRvMZxhBfW7"
      },
      "source": [
        "no_mine=[0]*160"
      ],
      "execution_count": null,
      "outputs": []
    },
    {
      "cell_type": "code",
      "metadata": {
        "id": "4wYSsZyqBj4F"
      },
      "source": [
        "y.extend(no_mine)"
      ],
      "execution_count": null,
      "outputs": []
    },
    {
      "cell_type": "code",
      "metadata": {
        "id": "jDqGsAtWBpfv",
        "colab": {
          "base_uri": "https://localhost:8080/"
        },
        "outputId": "9df07cc1-18c7-4b62-af91-f088680f9f3f"
      },
      "source": [
        "len(y)"
      ],
      "execution_count": null,
      "outputs": [
        {
          "output_type": "execute_result",
          "data": {
            "text/plain": [
              "200"
            ]
          },
          "metadata": {
            "tags": []
          },
          "execution_count": 20
        }
      ]
    },
    {
      "cell_type": "code",
      "metadata": {
        "colab": {
          "base_uri": "https://localhost:8080/"
        },
        "id": "s3lzmr-N7BfX",
        "outputId": "b12003bb-e8d1-472d-c524-0a40c5cefa86"
      },
      "source": [
        "y.extend(y)\n",
        "print(len(y))"
      ],
      "execution_count": null,
      "outputs": [
        {
          "output_type": "stream",
          "text": [
            "400\n"
          ],
          "name": "stdout"
        }
      ]
    },
    {
      "cell_type": "code",
      "metadata": {
        "id": "nl1FQ-BHCIUB"
      },
      "source": [
        "X = X/255"
      ],
      "execution_count": null,
      "outputs": []
    },
    {
      "cell_type": "code",
      "metadata": {
        "id": "rsSTjEnr7HJO"
      },
      "source": [
        "#adding noise\n",
        "def Noise(X, sigma=0.0005):\n",
        "    myNoise = np.random.normal(loc=0, scale=sigma, size=X.shape)\n",
        "    return X+myNoise\n",
        "\n",
        "X_aug = []\n",
        "for i in range(len(X)):\n",
        "  X_aug.append(Noise(X[i]))\n",
        " "
      ],
      "execution_count": null,
      "outputs": []
    },
    {
      "cell_type": "code",
      "metadata": {
        "id": "qq-Cblls7LtX"
      },
      "source": [
        "X_aug = np.stack(X_aug)\n",
        "X_aug=X_aug.reshape(200,1300,60,1)"
      ],
      "execution_count": null,
      "outputs": []
    },
    {
      "cell_type": "code",
      "metadata": {
        "colab": {
          "base_uri": "https://localhost:8080/"
        },
        "id": "YThNdU7p7ThW",
        "outputId": "3f70c1bd-5cef-4414-c443-a8bf3ede0ca3"
      },
      "source": [
        "X_aug[0].shape"
      ],
      "execution_count": null,
      "outputs": [
        {
          "output_type": "execute_result",
          "data": {
            "text/plain": [
              "(1300, 60, 1)"
            ]
          },
          "metadata": {
            "tags": []
          },
          "execution_count": 24
        }
      ]
    },
    {
      "cell_type": "code",
      "metadata": {
        "colab": {
          "base_uri": "https://localhost:8080/"
        },
        "id": "s3Eus7fP7UYG",
        "outputId": "4d98526d-09ca-4f24-b9ee-d3e047202f8a"
      },
      "source": [
        "X = np.concatenate((X,X_aug))\n",
        "print(X.shape)"
      ],
      "execution_count": null,
      "outputs": [
        {
          "output_type": "stream",
          "text": [
            "(400, 1300, 60, 1)\n"
          ],
          "name": "stdout"
        }
      ]
    },
    {
      "cell_type": "code",
      "metadata": {
        "id": "Dv4gATtk5yV3"
      },
      "source": [
        "y=np.array(y)"
      ],
      "execution_count": null,
      "outputs": []
    },
    {
      "cell_type": "code",
      "metadata": {
        "id": "oXUDV_1DGbB9"
      },
      "source": [
        "from sklearn.model_selection import train_test_split\n",
        "X_train, X_test, y_train, y_test = train_test_split(\n",
        "  X, y, test_size=0.33,stratify=y, random_state=0)"
      ],
      "execution_count": null,
      "outputs": []
    },
    {
      "cell_type": "code",
      "metadata": {
        "colab": {
          "base_uri": "https://localhost:8080/"
        },
        "id": "-S50YJ8H0hEU",
        "outputId": "432c840e-9fbf-4773-d3f0-6bd86fa61ad5"
      },
      "source": [
        "X_train.shape"
      ],
      "execution_count": null,
      "outputs": [
        {
          "output_type": "execute_result",
          "data": {
            "text/plain": [
              "(268, 1300, 60, 1)"
            ]
          },
          "metadata": {
            "tags": []
          },
          "execution_count": 28
        }
      ]
    },
    {
      "cell_type": "code",
      "metadata": {
        "colab": {
          "base_uri": "https://localhost:8080/"
        },
        "id": "9BrSSyw4CjXQ",
        "outputId": "71951373-310d-430b-b971-d181e2ed2c27"
      },
      "source": [
        "y_test"
      ],
      "execution_count": null,
      "outputs": [
        {
          "output_type": "execute_result",
          "data": {
            "text/plain": [
              "array([0, 0, 0, 0, 1, 1, 0, 0, 1, 1, 0, 0, 0, 0, 0, 1, 1, 0, 0, 0, 0, 1,\n",
              "       0, 0, 0, 0, 0, 0, 0, 0, 0, 0, 0, 0, 0, 1, 0, 0, 0, 0, 0, 0, 1, 0,\n",
              "       0, 0, 0, 0, 0, 1, 0, 0, 0, 0, 1, 0, 0, 1, 0, 0, 0, 0, 0, 0, 0, 0,\n",
              "       0, 0, 0, 0, 0, 0, 0, 1, 0, 1, 0, 1, 0, 1, 1, 0, 0, 0, 0, 0, 0, 1,\n",
              "       0, 0, 0, 0, 0, 0, 1, 0, 1, 1, 0, 0, 0, 0, 0, 0, 0, 0, 0, 0, 1, 0,\n",
              "       0, 0, 0, 0, 0, 0, 0, 0, 0, 1, 0, 0, 0, 1, 0, 0, 1, 1, 0, 0, 0, 0])"
            ]
          },
          "metadata": {
            "tags": []
          },
          "execution_count": 29
        }
      ]
    },
    {
      "cell_type": "code",
      "metadata": {
        "id": "OSc_8G__zmoB",
        "colab": {
          "base_uri": "https://localhost:8080/"
        },
        "outputId": "d0ca1ff9-4f22-4f42-b9a8-1e0b48fd0235"
      },
      "source": [
        "from keras.utils import to_categorical\n",
        "#one-hot encode target column\n",
        "y_train = to_categorical(y_train,num_classes = 2)\n",
        "y_test = to_categorical(y_test,num_classes = 2)\n",
        "y_test[-1]"
      ],
      "execution_count": null,
      "outputs": [
        {
          "output_type": "execute_result",
          "data": {
            "text/plain": [
              "array([1., 0.], dtype=float32)"
            ]
          },
          "metadata": {
            "tags": []
          },
          "execution_count": 30
        }
      ]
    },
    {
      "cell_type": "code",
      "metadata": {
        "colab": {
          "base_uri": "https://localhost:8080/"
        },
        "id": "-X33dG9lDFHk",
        "outputId": "0c567d66-78e4-4565-fac8-a6ca0fbc5f41"
      },
      "source": [
        "y_test[0]"
      ],
      "execution_count": null,
      "outputs": [
        {
          "output_type": "execute_result",
          "data": {
            "text/plain": [
              "array([1., 0.], dtype=float32)"
            ]
          },
          "metadata": {
            "tags": []
          },
          "execution_count": 31
        }
      ]
    },
    {
      "cell_type": "code",
      "metadata": {
        "id": "iVuQIrC-xKCb",
        "colab": {
          "base_uri": "https://localhost:8080/"
        },
        "outputId": "9026ceaf-a3bc-4bc0-a5e6-0bf8436adfba"
      },
      "source": [
        "from keras.models import Sequential\n",
        "from keras.layers import Dense, Conv2D, Flatten\n",
        "from keras.layers import Dropout,MaxPool2D\n",
        "from keras import backend as K\n",
        "from keras.preprocessing.image import ImageDataGenerator\n",
        "\n",
        "model = Sequential()\n",
        "model.add(Conv2D(filters = 20, kernel_size = (5,5),padding = 'Same', \n",
        "                 input_shape = (1300,60,1)))\n",
        "model.add(MaxPool2D(pool_size=(2,2)))\n",
        "\n",
        "model.add(Conv2D(filters = 50, kernel_size = (5,5),padding = 'Same'\n",
        "                 ))\n",
        "model.add(MaxPool2D(pool_size=(2,2)))\n",
        "model.add(Conv2D(filters = 500, kernel_size = (4,4),padding = 'Same', activation ='relu'))\n",
        "model.add(Dropout(0.5))\n",
        "#model.add(MaxPool2D(pool_size=(2,2), strides=(2,2)))\n",
        "model.add(Conv2D(filters = 26, kernel_size = (2,1),padding = 'Same'))\n",
        "model.add(Flatten())\n",
        "#model.add(Conv2D(10, activation = \"relu\"))\n",
        "model.add(Dense(2, activation = \"softmax\"))\n",
        "model.summary()"
      ],
      "execution_count": null,
      "outputs": [
        {
          "output_type": "stream",
          "text": [
            "Model: \"sequential\"\n",
            "_________________________________________________________________\n",
            "Layer (type)                 Output Shape              Param #   \n",
            "=================================================================\n",
            "conv2d (Conv2D)              (None, 1300, 60, 20)      520       \n",
            "_________________________________________________________________\n",
            "max_pooling2d (MaxPooling2D) (None, 650, 30, 20)       0         \n",
            "_________________________________________________________________\n",
            "conv2d_1 (Conv2D)            (None, 650, 30, 50)       25050     \n",
            "_________________________________________________________________\n",
            "max_pooling2d_1 (MaxPooling2 (None, 325, 15, 50)       0         \n",
            "_________________________________________________________________\n",
            "conv2d_2 (Conv2D)            (None, 325, 15, 500)      400500    \n",
            "_________________________________________________________________\n",
            "dropout (Dropout)            (None, 325, 15, 500)      0         \n",
            "_________________________________________________________________\n",
            "conv2d_3 (Conv2D)            (None, 325, 15, 26)       26026     \n",
            "_________________________________________________________________\n",
            "flatten (Flatten)            (None, 126750)            0         \n",
            "_________________________________________________________________\n",
            "dense (Dense)                (None, 2)                 253502    \n",
            "=================================================================\n",
            "Total params: 705,598\n",
            "Trainable params: 705,598\n",
            "Non-trainable params: 0\n",
            "_________________________________________________________________\n"
          ],
          "name": "stdout"
        }
      ]
    },
    {
      "cell_type": "code",
      "metadata": {
        "id": "KlsE3qbdx_i5"
      },
      "source": [
        "#compile model using accuracy to measure model performance\n",
        "# use this optimizer\n",
        "from keras.optimizers import SGD\n",
        "opt = SGD(lr=1e-4,momentum=0.9)\n",
        "model.compile(optimizer=opt, loss='categorical_crossentropy', metrics=['accuracy'])"
      ],
      "execution_count": null,
      "outputs": []
    },
    {
      "cell_type": "code",
      "metadata": {
        "id": "KyGsaFkzFWnO"
      },
      "source": [
        "# With data augmentation to prevent overfitting\n",
        "\n",
        "datagen = ImageDataGenerator(\n",
        "        featurewise_center=False,  # set input mean to 0 over the dataset\n",
        "        samplewise_center=False,  # set each sample mean to 0\n",
        "        featurewise_std_normalization=False,  # divide inputs by std of the dataset\n",
        "        samplewise_std_normalization=False,  # divide each input by its std\n",
        "        zca_whitening=False,  # apply ZCA whitening\n",
        "        #rotation_range=10,  # randomly rotate images in the range (degrees, 0 to 180)\n",
        "        zoom_range = 0.1, # Randomly zoom image \n",
        "        width_shift_range=0.1,  # randomly shift images horizontally (fraction of total width)\n",
        "        height_shift_range=0.1,  # randomly shift images vertically (fraction of total height)\n",
        "        horizontal_flip=True,  # randomly flip images\n",
        "        vertical_flip=False)  # randomly flip images\n",
        "\n",
        "\n",
        "datagen.fit(X_train)"
      ],
      "execution_count": null,
      "outputs": []
    },
    {
      "cell_type": "code",
      "metadata": {
        "colab": {
          "base_uri": "https://localhost:8080/"
        },
        "id": "hDM6zh8r0msX",
        "outputId": "c1dbdd52-41a7-400d-b31a-00bc40c9e5a0"
      },
      "source": [
        "X_train.shape"
      ],
      "execution_count": null,
      "outputs": [
        {
          "output_type": "execute_result",
          "data": {
            "text/plain": [
              "(253, 1300, 60, 1)"
            ]
          },
          "metadata": {
            "tags": []
          },
          "execution_count": 38
        }
      ]
    },
    {
      "cell_type": "code",
      "metadata": {
        "id": "IuNn4ipTMYqW"
      },
      "source": [
        "from sklearn.utils import compute_class_weight\n",
        "\n",
        "y_ints = [y.argmax() for y in y_train]\n",
        "classWeight = compute_class_weight('balanced',np.unique(np.array(y_ints)),y_ints) \n",
        "classWeight = dict(enumerate(classWeight))"
      ],
      "execution_count": null,
      "outputs": []
    },
    {
      "cell_type": "code",
      "metadata": {
        "id": "dPLkTA-aS69t"
      },
      "source": [
        "# didnt run this\n",
        "learning_rate_reduction = ReduceLROnPlateau(monitor='val_accuracy', \n",
        "                                            patience=3, \n",
        "                                            verbose=1, \n",
        "                                            factor=0.5, \n",
        "                                            min_lr=0.00001)"
      ],
      "execution_count": null,
      "outputs": []
    },
    {
      "cell_type": "code",
      "metadata": {
        "id": "xq6xSMkoTQp_"
      },
      "source": [
        "optimizer = RMSprop(lr=0.001, rho=0.9, epsilon=1e-08, decay=0.0)"
      ],
      "execution_count": null,
      "outputs": []
    },
    {
      "cell_type": "code",
      "metadata": {
        "id": "aGb1IW8eTRLK"
      },
      "source": [
        "model.compile(optimizer = optimizer , loss = \"categorical_crossentropy\", metrics=[\"accuracy\"])"
      ],
      "execution_count": null,
      "outputs": []
    },
    {
      "cell_type": "code",
      "metadata": {
        "id": "-bB-GtL6Tsr_"
      },
      "source": [
        "batch_size=50"
      ],
      "execution_count": null,
      "outputs": []
    },
    {
      "cell_type": "code",
      "metadata": {
        "id": "JOlKvPuOUxLn"
      },
      "source": [
        "X_train = X_train.astype(\"float32\")\n",
        "X_test=X_test.astype(\"float32\")"
      ],
      "execution_count": null,
      "outputs": []
    },
    {
      "cell_type": "code",
      "metadata": {
        "id": "wFpampqySm8o"
      },
      "source": [
        "#dont run this\n",
        "history = model.fit(datagen.flow(X_train,y_train, batch_size=batch_size),\n",
        "                              epochs = 10, validation_data = (X_test,y_test),\n",
        "                              verbose = 1, steps_per_epoch=X_train.shape[0] // batch_size\n",
        "                              ,callbacks=[learning_rate_reduction],class_weight=classWeight)"
      ],
      "execution_count": null,
      "outputs": []
    },
    {
      "cell_type": "code",
      "metadata": {
        "id": "5ysVDXdnyB12",
        "colab": {
          "base_uri": "https://localhost:8080/"
        },
        "outputId": "2c8fdb33-a3a5-45b8-958c-3095a820beee"
      },
      "source": [
        "#train the model\n",
        "history=model.fit(X_train, y_train, batch_size =100,validation_data=(X_test, y_test), epochs=10,verbose = 1,class_weight=classWeight)"
      ],
      "execution_count": null,
      "outputs": [
        {
          "output_type": "stream",
          "text": [
            "Epoch 1/10\n",
            "3/3 [==============================] - 86s 29s/step - loss: 0.7170 - accuracy: 0.5448 - val_loss: 0.6422 - val_accuracy: 0.8030\n",
            "Epoch 2/10\n",
            "3/3 [==============================] - 84s 28s/step - loss: 0.6862 - accuracy: 0.6604 - val_loss: 0.5833 - val_accuracy: 0.8030\n",
            "Epoch 3/10\n",
            "3/3 [==============================] - 83s 28s/step - loss: 0.6355 - accuracy: 0.8209 - val_loss: 0.5314 - val_accuracy: 0.8636\n",
            "Epoch 4/10\n",
            "3/3 [==============================] - 84s 28s/step - loss: 0.5955 - accuracy: 0.8619 - val_loss: 0.4721 - val_accuracy: 0.9015\n",
            "Epoch 5/10\n",
            "3/3 [==============================] - 83s 28s/step - loss: 0.5610 - accuracy: 0.8769 - val_loss: 0.4406 - val_accuracy: 0.9545\n",
            "Epoch 6/10\n",
            "3/3 [==============================] - 84s 28s/step - loss: 0.4976 - accuracy: 0.9328 - val_loss: 0.4268 - val_accuracy: 0.9621\n",
            "Epoch 7/10\n",
            "3/3 [==============================] - 83s 28s/step - loss: 0.4323 - accuracy: 0.9179 - val_loss: 0.3982 - val_accuracy: 0.9697\n",
            "Epoch 8/10\n",
            "3/3 [==============================] - 82s 27s/step - loss: 0.4109 - accuracy: 0.9366 - val_loss: 0.3653 - val_accuracy: 0.9621\n",
            "Epoch 9/10\n",
            "3/3 [==============================] - 83s 28s/step - loss: 0.3655 - accuracy: 0.9254 - val_loss: 0.3274 - val_accuracy: 0.9621\n",
            "Epoch 10/10\n",
            "3/3 [==============================] - 83s 28s/step - loss: 0.3268 - accuracy: 0.9291 - val_loss: 0.2937 - val_accuracy: 0.9621\n"
          ],
          "name": "stdout"
        }
      ]
    },
    {
      "cell_type": "code",
      "metadata": {
        "colab": {
          "base_uri": "https://localhost:8080/",
          "height": 282
        },
        "id": "hmi8i2GMEL6w",
        "outputId": "43eba05a-57a4-45bb-f210-02d9ae6624bb"
      },
      "source": [
        "plt.plot(history.history['loss'], color='b', label=\"Training loss\")\n",
        "plt.plot(history.history['val_loss'], color='r', label=\"validation loss\",)\n",
        "plt.legend(loc='best', shadow=True)"
      ],
      "execution_count": null,
      "outputs": [
        {
          "output_type": "execute_result",
          "data": {
            "text/plain": [
              "<matplotlib.legend.Legend at 0x7f44b1848e48>"
            ]
          },
          "metadata": {
            "tags": []
          },
          "execution_count": 36
        },
        {
          "output_type": "display_data",
          "data": {
            "image/png": "[encoded data removed]",
            "text/plain": [
              "<Figure size 432x288 with 1 Axes>"
            ]
          },
          "metadata": {
            "tags": [],
            "needs_background": "light"
          }
        }
      ]
    },
    {
      "cell_type": "code",
      "metadata": {
        "id": "eSBITn4XE0f9",
        "colab": {
          "base_uri": "https://localhost:8080/",
          "height": 282
        },
        "outputId": "b5e96a81-7fb3-4b45-e3e4-d904343f9ed0"
      },
      "source": [
        "plt.plot(history.history['accuracy'], color='b', label=\"Training accuracy\")\n",
        "plt.plot(history.history['val_accuracy'], color='r',label=\"Validation accuracy\")\n",
        "plt.legend(loc='best', shadow=True)"
      ],
      "execution_count": null,
      "outputs": [
        {
          "output_type": "execute_result",
          "data": {
            "text/plain": [
              "<matplotlib.legend.Legend at 0x7f44ae5a7fd0>"
            ]
          },
          "metadata": {
            "tags": []
          },
          "execution_count": 37
        },
        {
          "output_type": "display_data",
          "data": {
            "image/png": "[encoded data removed]",
            "text/plain": [
              "<Figure size 432x288 with 1 Axes>"
            ]
          },
          "metadata": {
            "tags": [],
            "needs_background": "light"
          }
        }
      ]
    },
    {
      "cell_type": "code",
      "metadata": {
        "id": "KoKG-JJhGnIH"
      },
      "source": [
        "import itertools\n",
        "\n",
        "def plot_confusion_matrix(cm, classes,\n",
        "                          normalize=False,\n",
        "                          title='Confusion matrix',\n",
        "                          cmap=plt.cm.Blues):\n",
        "    \"\"\"\n",
        "    This function prints and plots the confusion matrix.\n",
        "    Normalization can be applied by setting `normalize=True`.\n",
        "    \"\"\"\n",
        "    plt.imshow(cm, interpolation='nearest', cmap=cmap)\n",
        "    plt.title(title)\n",
        "    plt.colorbar()\n",
        "    tick_marks = np.arange(len(classes))\n",
        "    plt.xticks(tick_marks, classes, rotation=45)\n",
        "    plt.yticks(tick_marks, classes)\n",
        "\n",
        "    if normalize:\n",
        "        cm = cm.astype('float') / cm.sum(axis=1)[:, np.newaxis]\n",
        "\n",
        "    thresh = cm.max() / 2.\n",
        "    for i, j in itertools.product(range(cm.shape[0]), range(cm.shape[1])):\n",
        "        plt.text(j, i, cm[i, j],\n",
        "                 horizontalalignment=\"center\",\n",
        "                 color=\"white\" if cm[i, j] > thresh else \"black\")\n",
        "\n",
        "    plt.tight_layout()\n",
        "    plt.ylabel('True label')\n",
        "    plt.xlabel('Predicted label')"
      ],
      "execution_count": null,
      "outputs": []
    },
    {
      "cell_type": "code",
      "metadata": {
        "id": "eV0NZyJVGvlI"
      },
      "source": [
        "Y_pred = model.predict(X_test)"
      ],
      "execution_count": null,
      "outputs": []
    },
    {
      "cell_type": "code",
      "metadata": {
        "id": "LdHgkpphG344"
      },
      "source": [
        "Y_pred_classes = np.argmax(Y_pred,axis = 1) "
      ],
      "execution_count": null,
      "outputs": []
    },
    {
      "cell_type": "code",
      "metadata": {
        "id": "t-F6xXDcG6QR"
      },
      "source": [
        "Y_true = np.argmax(y_test,axis = 1) "
      ],
      "execution_count": null,
      "outputs": []
    },
    {
      "cell_type": "code",
      "metadata": {
        "id": "TxDIFVK4HBpb"
      },
      "source": [
        "from sklearn.metrics import confusion_matrix\n",
        "confusion_mtx = confusion_matrix(Y_true, Y_pred_classes) "
      ],
      "execution_count": null,
      "outputs": []
    },
    {
      "cell_type": "code",
      "metadata": {
        "colab": {
          "base_uri": "https://localhost:8080/",
          "height": 311
        },
        "id": "mkCAchA-HFDL",
        "outputId": "63754176-af1a-49d3-9a3e-44c87e339358"
      },
      "source": [
        "plot_confusion_matrix(confusion_mtx, classes = range(2)) "
      ],
      "execution_count": null,
      "outputs": [
        {
          "output_type": "display_data",
          "data": {
            "image/png": "[encoded data removed]",
            "text/plain": [
              "<Figure size 432x288 with 2 Axes>"
            ]
          },
          "metadata": {
            "tags": [],
            "needs_background": "light"
          }
        }
      ]
    },
    {
      "cell_type": "code",
      "metadata": {
        "id": "gfv3QM5zyHbj",
        "colab": {
          "base_uri": "https://localhost:8080/"
        },
        "outputId": "c5c5c7e0-d4ba-4423-888d-d2b1d350cb3a"
      },
      "source": [
        "#predict first 4 images in the test set\n",
        "model.predict(X_test[:5])"
      ],
      "execution_count": null,
      "outputs": [
        {
          "output_type": "execute_result",
          "data": {
            "text/plain": [
              "array([[0.5420346 , 0.45796537],\n",
              "       [0.8356671 , 0.16433291],\n",
              "       [0.65116185, 0.3488382 ],\n",
              "       [0.8359643 , 0.16403566],\n",
              "       [0.42015907, 0.57984096]], dtype=float32)"
            ]
          },
          "metadata": {
            "tags": []
          },
          "execution_count": 44
        }
      ]
    },
    {
      "cell_type": "code",
      "metadata": {
        "id": "1IdSHoioyJ5X",
        "colab": {
          "base_uri": "https://localhost:8080/"
        },
        "outputId": "9ad51639-48a8-416b-cc9d-8b757089b9f1"
      },
      "source": [
        "#actual results for first 4 images in test set\n",
        "y_test[:5]"
      ],
      "execution_count": null,
      "outputs": [
        {
          "output_type": "execute_result",
          "data": {
            "text/plain": [
              "array([[1., 0.],\n",
              "       [1., 0.],\n",
              "       [1., 0.],\n",
              "       [1., 0.],\n",
              "       [0., 1.]], dtype=float32)"
            ]
          },
          "metadata": {
            "tags": []
          },
          "execution_count": 45
        }
      ]
    },
    {
      "cell_type": "code",
      "metadata": {
        "id": "-duFbEk_GAG2",
        "colab": {
          "base_uri": "https://localhost:8080/"
        },
        "outputId": "17e79954-d4ec-407c-d27f-5605413aa0fd"
      },
      "source": [
        "model.evaluate(X_test,y_test)\n"
      ],
      "execution_count": null,
      "outputs": [
        {
          "output_type": "stream",
          "text": [
            "5/5 [==============================] - 11s 2s/step - loss: 0.2937 - accuracy: 0.9621\n"
          ],
          "name": "stdout"
        },
        {
          "output_type": "execute_result",
          "data": {
            "text/plain": [
              "[0.2937091886997223, 0.9621211886405945]"
            ]
          },
          "metadata": {
            "tags": []
          },
          "execution_count": 46
        }
      ]
    },
    {
      "cell_type": "code",
      "metadata": {
        "id": "gnoLZ3bq5E3C"
      },
      "source": [
        "from keras.optimizers import RMSprop\n",
        "\n",
        "optimizer = RMSprop(lr=0.01, rho=0.9, epsilon=1e-08, decay=0.0)"
      ],
      "execution_count": null,
      "outputs": []
    },
    {
      "cell_type": "code",
      "metadata": {
        "id": "vBn6ZEyVrU4p"
      },
      "source": [
        "model.save('my_model.h5')"
      ],
      "execution_count": null,
      "outputs": []
    }
  ]
}